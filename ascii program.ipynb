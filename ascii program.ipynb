{
 "cells": [
  {
   "cell_type": "markdown",
   "id": "e409a2a7",
   "metadata": {},
   "source": [
    "# ASCII VALUE PROGRAM"
   ]
  },
  {
   "cell_type": "code",
   "execution_count": 9,
   "id": "13622856",
   "metadata": {},
   "outputs": [
    {
     "name": "stdout",
     "output_type": "stream",
     "text": [
      "ENTER THE APLPHABET:  a\n",
      "The ASCII value of a is 97\n"
     ]
    }
   ],
   "source": [
    "alphabet=input(\"ENTER THE APLPHABET:  \")\n",
    "for i in alphabet:\n",
    "    print(\"The ASCII value of\",i,\"is\",ord(i))"
   ]
  },
  {
   "cell_type": "code",
   "execution_count": null,
   "id": "2387b2ff",
   "metadata": {},
   "outputs": [],
   "source": []
  }
 ],
 "metadata": {
  "kernelspec": {
   "display_name": "Python 3 (ipykernel)",
   "language": "python",
   "name": "python3"
  },
  "language_info": {
   "codemirror_mode": {
    "name": "ipython",
    "version": 3
   },
   "file_extension": ".py",
   "mimetype": "text/x-python",
   "name": "python",
   "nbconvert_exporter": "python",
   "pygments_lexer": "ipython3",
   "version": "3.10.2"
  }
 },
 "nbformat": 4,
 "nbformat_minor": 5
}
